{
 "cells": [
  {
   "cell_type": "markdown",
   "metadata": {},
   "source": [
    "# Salary Prediction\n",
    "\n",
    "Corresponding  with this notebook is a slide deck where you will need to update all the portions in red.  Completing the notebook will provide all the results needed for the slides.  **Correctly completing the slides is a required part of the project.**\n",
    "\n",
    "\n",
    "## Table of Contents\n",
    "- [Introduction](#intro)\n",
    "- [Part I - Descriptive Statistics](#descriptive)\n",
    "- [Part II - Regression](#regression)\n",
    "- [Part III - Interpret Results](#interpret)\n",
    "\n",
    "\n",
    "<a id='intro'></a>\n",
    "### Introduction\n",
    "\n",
    "Linear Regression is very commonly performed by data analysts and data scientists.  For this project, you will be working to understand the results of a Linear Regression model associated with salaries.  Your goal is to work through this notebook to understand what variables are related to salary, and how exactly they are related.\n",
    "\n",
    "As a final check, assure you meet all the criteria on the rubric.\n",
    "\n",
    "<a id='descriptive'></a>\n",
    "#### Part I - Descriptive Statistics\n",
    "\n",
    "To get started, let's import our libraries."
   ]
  },
  {
   "cell_type": "code",
   "execution_count": 1,
   "metadata": {},
   "outputs": [
    {
     "data": {
      "text/html": [
       "<style>\n",
       ".output {\n",
       "    flex-direction: row;\n",
       "}\n",
       "</style>"
      ],
      "text/plain": [
       "<IPython.core.display.HTML object>"
      ]
     },
     "execution_count": 1,
     "metadata": {},
     "output_type": "execute_result"
    }
   ],
   "source": [
    "import pandas as pd\n",
    "import numpy as np\n",
    "import random\n",
    "import matplotlib.pyplot as plt\n",
    "from IPython.display import display, HTML\n",
    "random.seed(0)\n",
    "\n",
    "import warnings\n",
    "warnings.filterwarnings(\"ignore\") \n",
    "\n",
    "\n",
    "CSS = \"\"\"\n",
    ".output {\n",
    "    flex-direction: row;\n",
    "}\n",
    "\"\"\"\n",
    "\n",
    "HTML('<style>{}</style>'.format(CSS))"
   ]
  },
  {
   "cell_type": "markdown",
   "metadata": {},
   "source": [
    "For each of the parts of question `1` notice links to [pandas documentation](https://pandas.pydata.org/) is provided to assist with answering the questions.  Though there are other ways you could solve the questions, the documentation is provided to assist you with one fast way to find the answer to each question.\n",
    "\n",
    "\n",
    "`1.a)` Now, read in the `salary_data.csv` data. Store it in `df`. Read in the dataset and take a look at the top few rows here. **This question is completed for you**:"
   ]
  },
  {
   "cell_type": "code",
   "execution_count": 2,
   "metadata": {},
   "outputs": [
    {
     "data": {
      "text/html": [
       "<div>\n",
       "<style scoped>\n",
       "    .dataframe tbody tr th:only-of-type {\n",
       "        vertical-align: middle;\n",
       "    }\n",
       "\n",
       "    .dataframe tbody tr th {\n",
       "        vertical-align: top;\n",
       "    }\n",
       "\n",
       "    .dataframe thead th {\n",
       "        text-align: right;\n",
       "    }\n",
       "</style>\n",
       "<table border=\"1\" class=\"dataframe\">\n",
       "  <thead>\n",
       "    <tr style=\"text-align: right;\">\n",
       "      <th></th>\n",
       "      <th>Age</th>\n",
       "      <th>Gender</th>\n",
       "      <th>Education Level</th>\n",
       "      <th>Job Title</th>\n",
       "      <th>Years of Experience</th>\n",
       "      <th>Salary</th>\n",
       "    </tr>\n",
       "  </thead>\n",
       "  <tbody>\n",
       "    <tr>\n",
       "      <th>0</th>\n",
       "      <td>32.0</td>\n",
       "      <td>Male</td>\n",
       "      <td>Bachelor's</td>\n",
       "      <td>Software Engineer</td>\n",
       "      <td>5.0</td>\n",
       "      <td>90000.0</td>\n",
       "    </tr>\n",
       "    <tr>\n",
       "      <th>1</th>\n",
       "      <td>28.0</td>\n",
       "      <td>Female</td>\n",
       "      <td>Master's</td>\n",
       "      <td>Data Analyst</td>\n",
       "      <td>3.0</td>\n",
       "      <td>65000.0</td>\n",
       "    </tr>\n",
       "    <tr>\n",
       "      <th>2</th>\n",
       "      <td>45.0</td>\n",
       "      <td>Male</td>\n",
       "      <td>PhD</td>\n",
       "      <td>Senior Manager</td>\n",
       "      <td>15.0</td>\n",
       "      <td>150000.0</td>\n",
       "    </tr>\n",
       "    <tr>\n",
       "      <th>3</th>\n",
       "      <td>36.0</td>\n",
       "      <td>Female</td>\n",
       "      <td>Bachelor's</td>\n",
       "      <td>Sales Associate</td>\n",
       "      <td>7.0</td>\n",
       "      <td>60000.0</td>\n",
       "    </tr>\n",
       "    <tr>\n",
       "      <th>4</th>\n",
       "      <td>52.0</td>\n",
       "      <td>Male</td>\n",
       "      <td>Master's</td>\n",
       "      <td>Director</td>\n",
       "      <td>20.0</td>\n",
       "      <td>200000.0</td>\n",
       "    </tr>\n",
       "  </tbody>\n",
       "</table>\n",
       "</div>"
      ],
      "text/plain": [
       "    Age  Gender Education Level          Job Title  Years of Experience  \\\n",
       "0  32.0    Male      Bachelor's  Software Engineer                  5.0   \n",
       "1  28.0  Female        Master's       Data Analyst                  3.0   \n",
       "2  45.0    Male             PhD     Senior Manager                 15.0   \n",
       "3  36.0  Female      Bachelor's    Sales Associate                  7.0   \n",
       "4  52.0    Male        Master's           Director                 20.0   \n",
       "\n",
       "     Salary  \n",
       "0   90000.0  \n",
       "1   65000.0  \n",
       "2  150000.0  \n",
       "3   60000.0  \n",
       "4  200000.0  "
      ]
     },
     "execution_count": 2,
     "metadata": {},
     "output_type": "execute_result"
    }
   ],
   "source": [
    "#importing the dataset\n",
    "df = pd.read_csv('salary_data.csv')\n",
    "\n",
    "#create a copy of my dataset\n",
    "data = df\n",
    "\n",
    "#displaying the dataset\n",
    "df.head()"
   ]
  },
  {
   "cell_type": "markdown",
   "metadata": {},
   "source": [
    "`b)` Use the below cell to find the number of rows in the dataset. [Helpful pandas link - `Dataframe.shape`](https://pandas.pydata.org/docs/reference/api/pandas.DataFrame.shape.html#pandas.DataFrame.shape)"
   ]
  },
  {
   "cell_type": "code",
   "execution_count": 3,
   "metadata": {},
   "outputs": [
    {
     "name": "stdout",
     "output_type": "stream",
     "text": [
      "The number of rows in the dataset: 375\n"
     ]
    }
   ],
   "source": [
    "#show the number of rows .. shape display rows and columns 0 for rows and 1 for columns\n",
    "print(\"The number of rows in the dataset: {}\".format(df.shape[0]))"
   ]
  },
  {
   "cell_type": "markdown",
   "metadata": {},
   "source": [
    "`c)` Do any of the rows have missing values? [Helpful Pandas Link One](https://pandas.pydata.org/docs/reference/api/pandas.DataFrame.isnull.html) and [Helpful Pandas Link Two](https://pandas.pydata.org/docs/reference/api/pandas.DataFrame.sum.html)  \n",
    "\n",
    "If there are missing values, determine a method for dealing with them.\n",
    "\n",
    "**`I got rid of the missing values because the NaN values are across all the columns of the dataframe.`**"
   ]
  },
  {
   "cell_type": "code",
   "execution_count": 4,
   "metadata": {},
   "outputs": [
    {
     "data": {
      "text/plain": [
       "Age                    2\n",
       "Gender                 2\n",
       "Education Level        2\n",
       "Job Title              2\n",
       "Years of Experience    2\n",
       "Salary                 2\n",
       "dtype: int64"
      ]
     },
     "execution_count": 4,
     "metadata": {},
     "output_type": "execute_result"
    }
   ],
   "source": [
    "#to measure the missing values, I have used isna() function\n",
    "df.isna().sum()"
   ]
  },
  {
   "cell_type": "code",
   "execution_count": 5,
   "metadata": {},
   "outputs": [
    {
     "data": {
      "text/html": [
       "<div>\n",
       "<style scoped>\n",
       "    .dataframe tbody tr th:only-of-type {\n",
       "        vertical-align: middle;\n",
       "    }\n",
       "\n",
       "    .dataframe tbody tr th {\n",
       "        vertical-align: top;\n",
       "    }\n",
       "\n",
       "    .dataframe thead th {\n",
       "        text-align: right;\n",
       "    }\n",
       "</style>\n",
       "<table border=\"1\" class=\"dataframe\">\n",
       "  <thead>\n",
       "    <tr style=\"text-align: right;\">\n",
       "      <th></th>\n",
       "      <th>Age</th>\n",
       "      <th>Gender</th>\n",
       "      <th>Education Level</th>\n",
       "      <th>Job Title</th>\n",
       "      <th>Years of Experience</th>\n",
       "      <th>Salary</th>\n",
       "    </tr>\n",
       "  </thead>\n",
       "  <tbody>\n",
       "    <tr>\n",
       "      <th>172</th>\n",
       "      <td>NaN</td>\n",
       "      <td>NaN</td>\n",
       "      <td>NaN</td>\n",
       "      <td>NaN</td>\n",
       "      <td>NaN</td>\n",
       "      <td>NaN</td>\n",
       "    </tr>\n",
       "    <tr>\n",
       "      <th>260</th>\n",
       "      <td>NaN</td>\n",
       "      <td>NaN</td>\n",
       "      <td>NaN</td>\n",
       "      <td>NaN</td>\n",
       "      <td>NaN</td>\n",
       "      <td>NaN</td>\n",
       "    </tr>\n",
       "  </tbody>\n",
       "</table>\n",
       "</div>"
      ],
      "text/plain": [
       "     Age Gender Education Level Job Title  Years of Experience  Salary\n",
       "172  NaN    NaN             NaN       NaN                  NaN     NaN\n",
       "260  NaN    NaN             NaN       NaN                  NaN     NaN"
      ]
     },
     "execution_count": 5,
     "metadata": {},
     "output_type": "execute_result"
    }
   ],
   "source": [
    "df[df[\"Age\"].isnull() == True] # I can delete these two rows"
   ]
  },
  {
   "cell_type": "code",
   "execution_count": 6,
   "metadata": {},
   "outputs": [],
   "source": [
    "df = df[df[\"Age\"].isnull() == False] # keep non-nan values"
   ]
  },
  {
   "cell_type": "code",
   "execution_count": 7,
   "metadata": {},
   "outputs": [
    {
     "data": {
      "text/plain": [
       "(373, 6)"
      ]
     },
     "execution_count": 7,
     "metadata": {},
     "output_type": "execute_result"
    }
   ],
   "source": [
    "df.shape #the dataset is free from NA values"
   ]
  },
  {
   "cell_type": "markdown",
   "metadata": {},
   "source": [
    "`d)` How many employees are in each `Education Level`? Build a bar chart to show the count of employees in each level."
   ]
  },
  {
   "cell_type": "code",
   "execution_count": 8,
   "metadata": {},
   "outputs": [
    {
     "name": "stdout",
     "output_type": "stream",
     "text": [
      "The number of employees in the Education Level - 'Bachelor's' is: 224\n",
      "The number of employees in the Education Level - 'Master's' is: 98\n",
      "The number of employees in the Education Level - 'PhD' is: 51\n"
     ]
    }
   ],
   "source": [
    "#I wanted to see the unique values in the Education Level col.\n",
    "education_counts = df[\"Education Level\"].value_counts()\n",
    "\n",
    "for level, count in education_counts.items():\n",
    "    print(\"The number of employees in the Education Level - '{}' is: {}\".format(level, count))"
   ]
  },
  {
   "cell_type": "code",
   "execution_count": 9,
   "metadata": {},
   "outputs": [
    {
     "data": {
      "image/png": "[encoded data removed]",
      "text/plain": [
       "<Figure size 864x720 with 1 Axes>"
      ]
     },
     "metadata": {},
     "output_type": "display_data"
    }
   ],
   "source": [
    "# bar chart of results - this part is done for you\n",
    "plt.figure(figsize=(12,10),facecolor=\"w\")\n",
    "df['Education Level'].value_counts().plot(kind='bar') \n",
    "plt.title('Number of Visits From Each Education Level',fontsize=18)\n",
    "plt.ylabel('Count of Visits',fontsize=14)\n",
    "plt.xlabel(\"Education Levels\",fontsize=14)\n",
    "plt.show()"
   ]
  },
  {
   "cell_type": "markdown",
   "metadata": {},
   "source": [
    "`e)` What are the possible values for `Salary`?  What does the distribution of `Salary` look like?\n",
    "\n",
    "**`Salary distribution goes between around 50k to slightly beyond 200k, as you can see in the next two visuals (Histogram and Box plot) however I wanna emphasize that there're a potential of outliers regarding this variable and requires some attention in the future investigation.`**\n",
    "\n",
    "**`The Salary looks like a right-skewed visual based on the histogram.`**"
   ]
  },
  {
   "cell_type": "code",
   "execution_count": 10,
   "metadata": {},
   "outputs": [
    {
     "name": "stdout",
     "output_type": "stream",
     "text": [
      "The 25% percentile = 55000.0\n",
      "The 75% percentile = 140000.0\n",
      "The IQR = 85000.0\n",
      "The Upper Bound = -72500.0\n",
      "The Lower Bound = 267500.0\n",
      "The Range of Salary = 249650.0\n"
     ]
    }
   ],
   "source": [
    "#Statistical calculations\n",
    "Q1,Q3 = np.percentile(df['Salary'],[25,75])\n",
    "IQR = Q3 - Q1\n",
    "upper_bound = Q3 + 1.5*IQR\n",
    "lower_bound = Q1 - 1.5*IQR\n",
    "Range = (df['Salary'].max()-df['Salary'].min())\n",
    "print(\"The 25% percentile = {}\\nThe 75% percentile = {}\\nThe IQR = {}\\nThe Upper Bound = {}\\nThe Lower Bound = {}\\nThe Range of Salary = {}\".format(Q1,Q3,IQR,lower_bound,upper_bound,Range))"
   ]
  },
  {
   "cell_type": "code",
   "execution_count": 11,
   "metadata": {},
   "outputs": [
    {
     "data": {
      "image/png": "[encoded data removed]",
      "text/plain": [
       "<Figure size 1008x720 with 1 Axes>"
      ]
     },
     "metadata": {},
     "output_type": "display_data"
    }
   ],
   "source": [
    "import seaborn as sns\n",
    "#using Histogram to see the distribution of \"Salary\"\n",
    "plt.figure(figsize=(14,10),facecolor=\"w\")\n",
    "sns.histplot(df.Salary)\n",
    "plt.title('The Distribution of Salaries',fontsize=18)\n",
    "plt.axvline(Q1, color='r', linestyle='dashed', linewidth=1) #highlighting the 25% percentile\n",
    "plt.axvline(Q3, color='k', linestyle='dashed', linewidth=1) #highlighting the 75% percentile\n",
    "plt.ylabel('Salary Frequencies',fontsize=14)\n",
    "plt.xlabel(\"Salary Distribution\",fontsize=14)\n",
    "plt.show()"
   ]
  },
  {
   "cell_type": "code",
   "execution_count": 12,
   "metadata": {},
   "outputs": [
    {
     "data": {
      "image/png": "[encoded data removed]",
      "text/plain": [
       "<Figure size 1080x360 with 1 Axes>"
      ]
     },
     "metadata": {},
     "output_type": "display_data"
    }
   ],
   "source": [
    "import seaborn as sns\n",
    "\n",
    "plt.figure(figsize=(15,5),facecolor=\"w\")\n",
    "sns.boxplot(df[\"Salary\"],orient=\"h\")\n",
    "plt.title(\"Identifying the Salary\",fontsize=14)\n",
    "plt.ylabel(\"Distribution of Salary\",fontsize=14)\n",
    "plt.xlabel(\"Frequency\",fontsize=14)\n",
    "plt.show()"
   ]
  },
  {
   "cell_type": "code",
   "execution_count": 13,
   "metadata": {},
   "outputs": [
    {
     "data": {
      "text/plain": [
       "count       373.000\n",
       "mean     100577.346\n",
       "std       48240.013\n",
       "min         350.000\n",
       "25%       55000.000\n",
       "50%       95000.000\n",
       "75%      140000.000\n",
       "max      250000.000\n",
       "Name: Salary, dtype: float64"
      ]
     },
     "execution_count": 13,
     "metadata": {},
     "output_type": "execute_result"
    }
   ],
   "source": [
    "round(df.Salary.describe(),3) #dig deeper in the \"Salary\" variable"
   ]
  },
  {
   "cell_type": "markdown",
   "metadata": {},
   "source": [
    "**`Interpretation`**\n",
    "\n",
    "- We can see that the right skewed histogram. As the mean is `100577.346` and median is `95000`.\n",
    "- There is a potential outlier as min value `350` and 25% is `55000` which is a great gap. Might required further investigation."
   ]
  },
  {
   "cell_type": "markdown",
   "metadata": {},
   "source": [
    "<a id='regression'></a>\n",
    "#### Part II - Regression\n",
    "\n",
    "`1.` Now that you have had a chance to learn more about the dataset, let's look more at how different factors are related to `Salary`.\n",
    "\n",
    "`a)` Consider average salary by gender, is there evidence that salaries are higher for one gender over the other?\n",
    "\n",
    "**`We can see Male has slight advantage over Female with average salary 103,867.784 and 97,011.173 resepectively.`**"
   ]
  },
  {
   "cell_type": "code",
   "execution_count": 14,
   "metadata": {},
   "outputs": [
    {
     "name": "stdout",
     "output_type": "stream",
     "text": [
      "The Average Salary by Gender - Male:  103867.784\n",
      "The Average Salary by Gender - Female:  97011.173\n"
     ]
    }
   ],
   "source": [
    "# Optimized to avoid redundancy\n",
    "Gender = [\"Male\", \"Female\"]\n",
    "\n",
    "for gender in Gender:\n",
    "    filtered_df = df[df[\"Gender\"] == gender]\n",
    "    if not filtered_df.empty:  # Check if there are matching rows\n",
    "        mean_salary = filtered_df.groupby(\"Gender\")[\"Salary\"].mean().values[0]\n",
    "        print(f\"The Average Salary by Gender - {filtered_df.values[0][1]}:  {round(mean_salary,3)}\")"
   ]
  },
  {
   "cell_type": "markdown",
   "metadata": {},
   "source": [
    "`b)` Consider average salary by education level, is there evidence that salaries are higher for increased education?"
   ]
  },
  {
   "cell_type": "code",
   "execution_count": 15,
   "metadata": {},
   "outputs": [
    {
     "name": "stdout",
     "output_type": "stream",
     "text": [
      "Average Salary per Education Level - Bachelor's:  74756.027\n",
      "Average Salary per Education Level - Master's:  129795.918\n",
      "Average Salary per Education Level - PhD:  157843.137\n"
     ]
    }
   ],
   "source": [
    "# Optimized to avoid redundancy\n",
    "education_levels = [\"Bachelor's\", \"Master's\", \"PhD\"]\n",
    "\n",
    "for level in education_levels:\n",
    "    filtered_df = df[df[\"Education Level\"] == level]\n",
    "    if not filtered_df.empty:  # Check if there are matching rows\n",
    "        mean_salary = filtered_df.groupby(\"Education Level\")[\"Salary\"].mean().values[0]\n",
    "        print(f\"Average Salary per Education Level - {filtered_df.values[0][2]}:  {round(mean_salary,3)}\")"
   ]
  },
  {
   "cell_type": "markdown",
   "metadata": {},
   "source": [
    "`c)` Consider average salary by years of experience, is there evidence that salaries are associated with increased years of experience?\n",
    "\n",
    "**`That's true because in the next detailed table, we can compare between 0 YOE and 20 YOE salaries.`**\n",
    "\n",
    "I have constructed a nice bar plot with bandwidth if we categorize the YOE on a scale per 5 years each we can clearly see that the average salary between `Less than 5 YOE` and More than `15 YOE` are giganitc on scale."
   ]
  },
  {
   "cell_type": "code",
   "execution_count": 16,
   "metadata": {},
   "outputs": [
    {
     "data": {
      "text/html": [
       "<div>\n",
       "<style scoped>\n",
       "    .dataframe tbody tr th:only-of-type {\n",
       "        vertical-align: middle;\n",
       "    }\n",
       "\n",
       "    .dataframe tbody tr th {\n",
       "        vertical-align: top;\n",
       "    }\n",
       "\n",
       "    .dataframe thead th {\n",
       "        text-align: right;\n",
       "    }\n",
       "</style>\n",
       "<table border=\"1\" class=\"dataframe\">\n",
       "  <thead>\n",
       "    <tr style=\"text-align: right;\">\n",
       "      <th></th>\n",
       "      <th>Years of Experience</th>\n",
       "      <th>Salary</th>\n",
       "    </tr>\n",
       "  </thead>\n",
       "  <tbody>\n",
       "    <tr>\n",
       "      <th>0</th>\n",
       "      <td>0.0</td>\n",
       "      <td>33333.333333</td>\n",
       "    </tr>\n",
       "    <tr>\n",
       "      <th>1</th>\n",
       "      <td>0.5</td>\n",
       "      <td>35000.000000</td>\n",
       "    </tr>\n",
       "    <tr>\n",
       "      <th>2</th>\n",
       "      <td>1.0</td>\n",
       "      <td>37857.142857</td>\n",
       "    </tr>\n",
       "    <tr>\n",
       "      <th>3</th>\n",
       "      <td>1.5</td>\n",
       "      <td>36279.166667</td>\n",
       "    </tr>\n",
       "    <tr>\n",
       "      <th>4</th>\n",
       "      <td>2.0</td>\n",
       "      <td>41774.193548</td>\n",
       "    </tr>\n",
       "    <tr>\n",
       "      <th>5</th>\n",
       "      <td>3.0</td>\n",
       "      <td>51166.666667</td>\n",
       "    </tr>\n",
       "    <tr>\n",
       "      <th>6</th>\n",
       "      <td>4.0</td>\n",
       "      <td>58500.000000</td>\n",
       "    </tr>\n",
       "    <tr>\n",
       "      <th>7</th>\n",
       "      <td>5.0</td>\n",
       "      <td>64117.647059</td>\n",
       "    </tr>\n",
       "    <tr>\n",
       "      <th>8</th>\n",
       "      <td>6.0</td>\n",
       "      <td>83750.000000</td>\n",
       "    </tr>\n",
       "    <tr>\n",
       "      <th>9</th>\n",
       "      <td>7.0</td>\n",
       "      <td>84444.444444</td>\n",
       "    </tr>\n",
       "    <tr>\n",
       "      <th>10</th>\n",
       "      <td>8.0</td>\n",
       "      <td>88800.000000</td>\n",
       "    </tr>\n",
       "    <tr>\n",
       "      <th>11</th>\n",
       "      <td>9.0</td>\n",
       "      <td>101818.181818</td>\n",
       "    </tr>\n",
       "    <tr>\n",
       "      <th>12</th>\n",
       "      <td>10.0</td>\n",
       "      <td>100555.555556</td>\n",
       "    </tr>\n",
       "    <tr>\n",
       "      <th>13</th>\n",
       "      <td>11.0</td>\n",
       "      <td>100500.000000</td>\n",
       "    </tr>\n",
       "    <tr>\n",
       "      <th>14</th>\n",
       "      <td>12.0</td>\n",
       "      <td>105000.000000</td>\n",
       "    </tr>\n",
       "    <tr>\n",
       "      <th>15</th>\n",
       "      <td>13.0</td>\n",
       "      <td>120000.000000</td>\n",
       "    </tr>\n",
       "    <tr>\n",
       "      <th>16</th>\n",
       "      <td>14.0</td>\n",
       "      <td>125769.230769</td>\n",
       "    </tr>\n",
       "    <tr>\n",
       "      <th>17</th>\n",
       "      <td>15.0</td>\n",
       "      <td>134375.000000</td>\n",
       "    </tr>\n",
       "    <tr>\n",
       "      <th>18</th>\n",
       "      <td>16.0</td>\n",
       "      <td>157500.000000</td>\n",
       "    </tr>\n",
       "    <tr>\n",
       "      <th>19</th>\n",
       "      <td>17.0</td>\n",
       "      <td>143000.000000</td>\n",
       "    </tr>\n",
       "    <tr>\n",
       "      <th>20</th>\n",
       "      <td>18.0</td>\n",
       "      <td>149615.384615</td>\n",
       "    </tr>\n",
       "    <tr>\n",
       "      <th>21</th>\n",
       "      <td>19.0</td>\n",
       "      <td>166333.333333</td>\n",
       "    </tr>\n",
       "    <tr>\n",
       "      <th>22</th>\n",
       "      <td>20.0</td>\n",
       "      <td>168846.153846</td>\n",
       "    </tr>\n",
       "    <tr>\n",
       "      <th>23</th>\n",
       "      <td>21.0</td>\n",
       "      <td>173846.153846</td>\n",
       "    </tr>\n",
       "    <tr>\n",
       "      <th>24</th>\n",
       "      <td>22.0</td>\n",
       "      <td>162222.222222</td>\n",
       "    </tr>\n",
       "    <tr>\n",
       "      <th>25</th>\n",
       "      <td>23.0</td>\n",
       "      <td>177500.000000</td>\n",
       "    </tr>\n",
       "    <tr>\n",
       "      <th>26</th>\n",
       "      <td>24.0</td>\n",
       "      <td>250000.000000</td>\n",
       "    </tr>\n",
       "    <tr>\n",
       "      <th>27</th>\n",
       "      <td>25.0</td>\n",
       "      <td>200000.000000</td>\n",
       "    </tr>\n",
       "  </tbody>\n",
       "</table>\n",
       "</div>"
      ],
      "text/plain": [
       "    Years of Experience         Salary\n",
       "0                   0.0   33333.333333\n",
       "1                   0.5   35000.000000\n",
       "2                   1.0   37857.142857\n",
       "3                   1.5   36279.166667\n",
       "4                   2.0   41774.193548\n",
       "5                   3.0   51166.666667\n",
       "6                   4.0   58500.000000\n",
       "7                   5.0   64117.647059\n",
       "8                   6.0   83750.000000\n",
       "9                   7.0   84444.444444\n",
       "10                  8.0   88800.000000\n",
       "11                  9.0  101818.181818\n",
       "12                 10.0  100555.555556\n",
       "13                 11.0  100500.000000\n",
       "14                 12.0  105000.000000\n",
       "15                 13.0  120000.000000\n",
       "16                 14.0  125769.230769\n",
       "17                 15.0  134375.000000\n",
       "18                 16.0  157500.000000\n",
       "19                 17.0  143000.000000\n",
       "20                 18.0  149615.384615\n",
       "21                 19.0  166333.333333\n",
       "22                 20.0  168846.153846\n",
       "23                 21.0  173846.153846\n",
       "24                 22.0  162222.222222\n",
       "25                 23.0  177500.000000\n",
       "26                 24.0  250000.000000\n",
       "27                 25.0  200000.000000"
      ]
     },
     "execution_count": 16,
     "metadata": {},
     "output_type": "execute_result"
    }
   ],
   "source": [
    "df[\"Years of Experience\"].value_counts()\n",
    "\n",
    "df.groupby('Years of Experience')['Salary'].mean().to_frame().reset_index() #yes indeed"
   ]
  },
  {
   "cell_type": "markdown",
   "metadata": {},
   "source": [
    "**`Creating a subset to highlight the total salary of the employees based on their YOE. if the employee has less than 5 years of experience his avg. salary is around 52.5k compared to someone with YOE in range of (15-20 YOE)`**"
   ]
  },
  {
   "cell_type": "code",
   "execution_count": 17,
   "metadata": {},
   "outputs": [],
   "source": [
    "#starting with defining the bins and labels\n",
    "bins = [0, 6, 11, 16,21]\n",
    "labels = [\"Less than 5 YOE\",\"5-10 YOE\",\"10-15 YOE\",\"15-20 YOE\"]\n",
    "df[\"YOE_label\"] = pd.cut(df['Years of Experience'], bins=bins, labels=labels)\n",
    "\n",
    "#creating a small subset out of df \n",
    "subset = df.groupby('YOE_label')['Salary'].mean().to_frame().reset_index() #yes indeed"
   ]
  },
  {
   "cell_type": "code",
   "execution_count": 18,
   "metadata": {},
   "outputs": [
    {
     "data": {
      "text/html": [
       "<div>\n",
       "<style scoped>\n",
       "    .dataframe tbody tr th:only-of-type {\n",
       "        vertical-align: middle;\n",
       "    }\n",
       "\n",
       "    .dataframe tbody tr th {\n",
       "        vertical-align: top;\n",
       "    }\n",
       "\n",
       "    .dataframe thead th {\n",
       "        text-align: right;\n",
       "    }\n",
       "</style>\n",
       "<table border=\"1\" class=\"dataframe\">\n",
       "  <thead>\n",
       "    <tr style=\"text-align: right;\">\n",
       "      <th></th>\n",
       "      <th>YOE_label</th>\n",
       "      <th>Salary</th>\n",
       "    </tr>\n",
       "  </thead>\n",
       "  <tbody>\n",
       "    <tr>\n",
       "      <th>0</th>\n",
       "      <td>Less than 5 YOE</td>\n",
       "      <td>52541.153846</td>\n",
       "    </tr>\n",
       "    <tr>\n",
       "      <th>1</th>\n",
       "      <td>5-10 YOE</td>\n",
       "      <td>94569.892473</td>\n",
       "    </tr>\n",
       "    <tr>\n",
       "      <th>2</th>\n",
       "      <td>10-15 YOE</td>\n",
       "      <td>130342.465753</td>\n",
       "    </tr>\n",
       "    <tr>\n",
       "      <th>3</th>\n",
       "      <td>15-20 YOE</td>\n",
       "      <td>162881.355932</td>\n",
       "    </tr>\n",
       "  </tbody>\n",
       "</table>\n",
       "</div>"
      ],
      "text/plain": [
       "         YOE_label         Salary\n",
       "0  Less than 5 YOE   52541.153846\n",
       "1         5-10 YOE   94569.892473\n",
       "2        10-15 YOE  130342.465753\n",
       "3        15-20 YOE  162881.355932"
      ]
     },
     "metadata": {},
     "output_type": "display_data"
    },
    {
     "data": {
      "image/png": "[encoded data removed]",
      "text/plain": [
       "<Figure size 720x576 with 1 Axes>"
      ]
     },
     "metadata": {
      "needs_background": "light"
     },
     "output_type": "display_data"
    }
   ],
   "source": [
    "#creating bar plot and visualizing the subset table for easy comparison\n",
    "from IPython.display import display, HTML\n",
    "\n",
    "display(subset)\n",
    "\n",
    "plt.figure(figsize=(10,8))\n",
    "sns.barplot(subset.YOE_label,subset.Salary)\n",
    "plt.title(\"The Average Salary based on the YOE Benchmark\",fontsize=14)\n",
    "plt.grid(axis='y')\n",
    "plt.show()"
   ]
  },
  {
   "cell_type": "markdown",
   "metadata": {},
   "source": [
    "`d)`  To make use of Job Title column lets create bool flag based on word existiance\n",
    "\n",
    "\n",
    "List of words:\n",
    "\n",
    "* Director\n",
    "* Junior\n",
    "* Senior\n",
    "* Manager\n",
    "* Analyst\n",
    "* Engineer\n",
    "\n",
    "**This question is completed for you**"
   ]
  },
  {
   "cell_type": "code",
   "execution_count": 19,
   "metadata": {},
   "outputs": [],
   "source": [
    "flag_words = ['director', 'junior', 'senior', 'manager', 'analyst', 'engineer']\n",
    "\n",
    "rankings = {\n",
    "    'director':5,\n",
    "    'manager':4,\n",
    "    'senior':3,\n",
    "    'engineer':2,\n",
    "    'analyst':1,\n",
    "    'junior':0\n",
    "}\n",
    "\n",
    "# Convert job titles to lowercase for consistency\n",
    "df['Job Title'] = df['Job Title'].str.lower()\n",
    "# Initialize columns for each word in flag_words and assign ranks\n",
    "for word in flag_words:\n",
    "    # Create a column to indicate the presence of the word\n",
    "    df[word] = df['Job Title'].str.contains(word)\n",
    "    \n",
    "    # Create a ranking column for each word (if the word is present, assign its rank)\n",
    "    df[word] = df[word].apply(lambda x: rankings[word] if pd.notna(x) and x else 0).astype(\"int64\")\n",
    "\n",
    "#\n",
    "condition = df[['director','junior','senior','manager','analyst','engineer']]"
   ]
  },
  {
   "cell_type": "code",
   "execution_count": 20,
   "metadata": {},
   "outputs": [],
   "source": [
    "# Iterate over rows\n",
    "for index, row in condition.iterrows():\n",
    "    if (row > 0).any():  # If any number > 0\n",
    "        max_col = row.idxmax()  # Find the column with the highest number\n",
    "        condition.loc[index] = 0  # Set all values to 0\n",
    "        condition.loc[index, max_col] = 1  # Set the highest value column to 1\n",
    "    elif (row == 0).all():  # If all values are 0\n",
    "        condition.loc[index, 'not listed'] = 1  # Set 'not listed' column to 1\n",
    "    else:\n",
    "        condition.loc[index, 'not listed'] = 0  # Ensure 'not listed' is 0 if not all are 0\n",
    "condition['not listed'] = condition['not listed'].fillna(0).astype(\"int64\")\n",
    "\n",
    "#displaying the results:\n",
    "condition.columns = condition.columns.str.title()#del unnecessary var.\n",
    "df = pd.concat([df,condition],axis=1)\n",
    "\n",
    "df.drop(['director', 'junior', 'senior', 'manager', 'analyst', 'engineer'],axis=1,inplace=True)"
   ]
  },
  {
   "cell_type": "markdown",
   "metadata": {},
   "source": [
    "`e)` Create a flag for gender where 1 is if a person is male and 0 if the person is not."
   ]
  },
  {
   "cell_type": "code",
   "execution_count": 21,
   "metadata": {},
   "outputs": [],
   "source": [
    "#get_dummies\n",
    "df[[\"Male\",\"Female\"]] = pd.get_dummies(df[\"Gender\"])"
   ]
  },
  {
   "cell_type": "code",
   "execution_count": 22,
   "metadata": {},
   "outputs": [],
   "source": [
    "# Data Transformation\n",
    "#changing the dtype ## Years of Experience is float and that's the correct dtype\n",
    "df[\"Age\"] = df[\"Age\"].astype(\"int64\")\n",
    "df[\"Salary\"] = df[\"Salary\"].astype(\"int64\")\n"
   ]
  },
  {
   "cell_type": "code",
   "execution_count": 23,
   "metadata": {},
   "outputs": [],
   "source": [
    "#df.info()\n",
    "# .replace({False: 0, True: 1}, inplace=True)\n",
    "\n",
    "for i in df.columns:\n",
    "    if df[i].dtype == \"bool\":\n",
    "        df[i] = df[i].replace({False: 0, True: 1})\n"
   ]
  },
  {
   "cell_type": "code",
   "execution_count": 24,
   "metadata": {},
   "outputs": [],
   "source": [
    "df[[\"Bachelor\",\"Master\",\"PhD\"]] = pd.get_dummies(df[\"Education Level\"])"
   ]
  },
  {
   "cell_type": "code",
   "execution_count": 25,
   "metadata": {},
   "outputs": [],
   "source": [
    "#delete original columns\n",
    "df.drop([\"Gender\",\"Education Level\"],axis=1,inplace=True)"
   ]
  },
  {
   "cell_type": "markdown",
   "metadata": {},
   "source": [
    "`f)` Use statsmodels to fit a linear model to predict salary using each of the features from `a-e`.  These include:\n",
    "* Gender\n",
    "* Job TItle\n",
    "* Years of Experience\n",
    "* Education\n",
    "\n",
    "**`In the next model, I have included all the variables without deleting any elements at all, that's because I want to elemeinate in the following step the elements that doesn't impact significantly on the *Salary* variable.`**"
   ]
  },
  {
   "cell_type": "code",
   "execution_count": 26,
   "metadata": {},
   "outputs": [
    {
     "data": {
      "text/html": [
       "<table class=\"simpletable\">\n",
       "<caption>OLS Regression Results</caption>\n",
       "<tr>\n",
       "  <th>Dep. Variable:</th>         <td>Salary</td>      <th>  R-squared:         </th> <td>   0.908</td> \n",
       "</tr>\n",
       "<tr>\n",
       "  <th>Model:</th>                   <td>OLS</td>       <th>  Adj. R-squared:    </th> <td>   0.906</td> \n",
       "</tr>\n",
       "<tr>\n",
       "  <th>Method:</th>             <td>Least Squares</td>  <th>  F-statistic:       </th> <td>   397.3</td> \n",
       "</tr>\n",
       "<tr>\n",
       "  <th>Date:</th>             <td>Mon, 20 Jan 2025</td> <th>  Prob (F-statistic):</th> <td>6.14e-182</td>\n",
       "</tr>\n",
       "<tr>\n",
       "  <th>Time:</th>                 <td>23:34:14</td>     <th>  Log-Likelihood:    </th> <td> -4106.5</td> \n",
       "</tr>\n",
       "<tr>\n",
       "  <th>No. Observations:</th>      <td>   373</td>      <th>  AIC:               </th> <td>   8233.</td> \n",
       "</tr>\n",
       "<tr>\n",
       "  <th>Df Residuals:</th>          <td>   363</td>      <th>  BIC:               </th> <td>   8272.</td> \n",
       "</tr>\n",
       "<tr>\n",
       "  <th>Df Model:</th>              <td>     9</td>      <th>                     </th>     <td> </td>    \n",
       "</tr>\n",
       "<tr>\n",
       "  <th>Covariance Type:</th>      <td>nonrobust</td>    <th>                     </th>     <td> </td>    \n",
       "</tr>\n",
       "</table>\n",
       "<table class=\"simpletable\">\n",
       "<tr>\n",
       "           <td></td>              <th>coef</th>     <th>std err</th>      <th>t</th>      <th>P>|t|</th>  <th>[0.025</th>    <th>0.975]</th>  \n",
       "</tr>\n",
       "<tr>\n",
       "  <th>intercept</th>           <td>  2.63e+04</td> <td> 1286.236</td> <td>   20.449</td> <td> 0.000</td> <td> 2.38e+04</td> <td> 2.88e+04</td>\n",
       "</tr>\n",
       "<tr>\n",
       "  <th>Years of Experience</th> <td> 5275.8443</td> <td>  182.331</td> <td>   28.935</td> <td> 0.000</td> <td> 4917.286</td> <td> 5634.402</td>\n",
       "</tr>\n",
       "<tr>\n",
       "  <th>Director</th>            <td> 1.864e+04</td> <td> 2985.772</td> <td>    6.243</td> <td> 0.000</td> <td> 1.28e+04</td> <td> 2.45e+04</td>\n",
       "</tr>\n",
       "<tr>\n",
       "  <th>Junior</th>              <td>  6.49e-12</td> <td> 6.13e-13</td> <td>   10.579</td> <td> 0.000</td> <td> 5.28e-12</td> <td>  7.7e-12</td>\n",
       "</tr>\n",
       "<tr>\n",
       "  <th>Senior</th>              <td> 8714.1424</td> <td> 1788.962</td> <td>    4.871</td> <td> 0.000</td> <td> 5196.111</td> <td> 1.22e+04</td>\n",
       "</tr>\n",
       "<tr>\n",
       "  <th>Manager</th>             <td> 6682.0247</td> <td> 1817.875</td> <td>    3.676</td> <td> 0.000</td> <td> 3107.135</td> <td> 1.03e+04</td>\n",
       "</tr>\n",
       "<tr>\n",
       "  <th>Analyst</th>             <td>-6342.0452</td> <td> 2504.229</td> <td>   -2.533</td> <td> 0.012</td> <td>-1.13e+04</td> <td>-1417.428</td>\n",
       "</tr>\n",
       "<tr>\n",
       "  <th>Engineer</th>            <td> 1538.2390</td> <td> 5691.969</td> <td>    0.270</td> <td> 0.787</td> <td>-9655.135</td> <td> 1.27e+04</td>\n",
       "</tr>\n",
       "<tr>\n",
       "  <th>Not Listed</th>          <td>-2930.4936</td> <td> 1913.362</td> <td>   -1.532</td> <td> 0.126</td> <td>-6693.159</td> <td>  832.172</td>\n",
       "</tr>\n",
       "<tr>\n",
       "  <th>Male</th>                <td> 9335.2540</td> <td> 1031.444</td> <td>    9.051</td> <td> 0.000</td> <td> 7306.899</td> <td> 1.14e+04</td>\n",
       "</tr>\n",
       "<tr>\n",
       "  <th>Female</th>              <td> 1.697e+04</td> <td>  989.101</td> <td>   17.154</td> <td> 0.000</td> <td>  1.5e+04</td> <td> 1.89e+04</td>\n",
       "</tr>\n",
       "<tr>\n",
       "  <th>Bachelor</th>            <td>-3738.8315</td> <td> 1227.999</td> <td>   -3.045</td> <td> 0.002</td> <td>-6153.717</td> <td>-1323.947</td>\n",
       "</tr>\n",
       "<tr>\n",
       "  <th>Master</th>              <td> 1.039e+04</td> <td> 1378.591</td> <td>    7.535</td> <td> 0.000</td> <td> 7676.437</td> <td> 1.31e+04</td>\n",
       "</tr>\n",
       "<tr>\n",
       "  <th>PhD</th>                 <td> 1.965e+04</td> <td> 2016.399</td> <td>    9.747</td> <td> 0.000</td> <td> 1.57e+04</td> <td> 2.36e+04</td>\n",
       "</tr>\n",
       "</table>\n",
       "<table class=\"simpletable\">\n",
       "<tr>\n",
       "  <th>Omnibus:</th>       <td>87.567</td> <th>  Durbin-Watson:     </th> <td>   1.788</td> \n",
       "</tr>\n",
       "<tr>\n",
       "  <th>Prob(Omnibus):</th> <td> 0.000</td> <th>  Jarque-Bera (JB):  </th> <td> 494.357</td> \n",
       "</tr>\n",
       "<tr>\n",
       "  <th>Skew:</th>          <td> 0.848</td> <th>  Prob(JB):          </th> <td>4.49e-108</td>\n",
       "</tr>\n",
       "<tr>\n",
       "  <th>Kurtosis:</th>      <td> 8.379</td> <th>  Cond. No.          </th> <td>2.86e+17</td> \n",
       "</tr>\n",
       "</table><br/><br/>Notes:<br/>[1] Standard Errors assume that the covariance matrix of the errors is correctly specified.<br/>[2] The smallest eigenvalue is 6.6e-31. This might indicate that there are<br/>strong multicollinearity problems or that the design matrix is singular."
      ],
      "text/plain": [
       "<class 'statsmodels.iolib.summary.Summary'>\n",
       "\"\"\"\n",
       "                            OLS Regression Results                            \n",
       "==============================================================================\n",
       "Dep. Variable:                 Salary   R-squared:                       0.908\n",
       "Model:                            OLS   Adj. R-squared:                  0.906\n",
       "Method:                 Least Squares   F-statistic:                     397.3\n",
       "Date:                Mon, 20 Jan 2025   Prob (F-statistic):          6.14e-182\n",
       "Time:                        23:34:14   Log-Likelihood:                -4106.5\n",
       "No. Observations:                 373   AIC:                             8233.\n",
       "Df Residuals:                     363   BIC:                             8272.\n",
       "Df Model:                           9                                         \n",
       "Covariance Type:            nonrobust                                         \n",
       "=======================================================================================\n",
       "                          coef    std err          t      P>|t|      [0.025      0.975]\n",
       "---------------------------------------------------------------------------------------\n",
       "intercept             2.63e+04   1286.236     20.449      0.000    2.38e+04    2.88e+04\n",
       "Years of Experience  5275.8443    182.331     28.935      0.000    4917.286    5634.402\n",
       "Director             1.864e+04   2985.772      6.243      0.000    1.28e+04    2.45e+04\n",
       "Junior                6.49e-12   6.13e-13     10.579      0.000    5.28e-12     7.7e-12\n",
       "Senior               8714.1424   1788.962      4.871      0.000    5196.111    1.22e+04\n",
       "Manager              6682.0247   1817.875      3.676      0.000    3107.135    1.03e+04\n",
       "Analyst             -6342.0452   2504.229     -2.533      0.012   -1.13e+04   -1417.428\n",
       "Engineer             1538.2390   5691.969      0.270      0.787   -9655.135    1.27e+04\n",
       "Not Listed          -2930.4936   1913.362     -1.532      0.126   -6693.159     832.172\n",
       "Male                 9335.2540   1031.444      9.051      0.000    7306.899    1.14e+04\n",
       "Female               1.697e+04    989.101     17.154      0.000     1.5e+04    1.89e+04\n",
       "Bachelor            -3738.8315   1227.999     -3.045      0.002   -6153.717   -1323.947\n",
       "Master               1.039e+04   1378.591      7.535      0.000    7676.437    1.31e+04\n",
       "PhD                  1.965e+04   2016.399      9.747      0.000    1.57e+04    2.36e+04\n",
       "==============================================================================\n",
       "Omnibus:                       87.567   Durbin-Watson:                   1.788\n",
       "Prob(Omnibus):                  0.000   Jarque-Bera (JB):              494.357\n",
       "Skew:                           0.848   Prob(JB):                    4.49e-108\n",
       "Kurtosis:                       8.379   Cond. No.                     2.86e+17\n",
       "==============================================================================\n",
       "\n",
       "Notes:\n",
       "[1] Standard Errors assume that the covariance matrix of the errors is correctly specified.\n",
       "[2] The smallest eigenvalue is 6.6e-31. This might indicate that there are\n",
       "strong multicollinearity problems or that the design matrix is singular.\n",
       "\"\"\""
      ]
     },
     "execution_count": 26,
     "metadata": {},
     "output_type": "execute_result"
    }
   ],
   "source": [
    "import statsmodels.api as sm\n",
    "from sklearn.metrics import confusion_matrix, precision_score, recall_score, accuracy_score\n",
    "\n",
    "df['intercept'] = 1\n",
    "mlr = sm.OLS(df['Salary'],df[['intercept', 'Years of Experience','Director',\n",
    "       'Junior', 'Senior', 'Manager', 'Analyst', 'Engineer', 'Not Listed',\n",
    "       'Male', 'Female', 'Bachelor', 'Master', 'PhD']])\n",
    "\n",
    "res = mlr.fit()\n",
    "res.summary()"
   ]
  },
  {
   "cell_type": "markdown",
   "metadata": {},
   "source": [
    "## Interpretation:\n",
    "\n",
    "**`Due to the multicollinearity and filtering only the variables that impact significantly on the Salary variable, our dependent response. We can say:`**\n",
    "\n",
    "1. Years of Experience\n",
    "2. Director\n",
    "3. Junior\n",
    "4. Senior\n",
    "5. Manager\n",
    "6. Engineer \"We keeping it because we need to use this variable to answer the `Q(d)` in `Part III` `If a male employee has 5 years of experience as a senior engineer with a bachelor's degree, what is the expected salary of the employee?`\"\n",
    "7. Male\n",
    "8. Bachelor\n",
    "9. PhD\n",
    "\n",
    "\n",
    "*Despite Female & Master degree both have p-value less than the critical value `0.05`, however we eliminate them to avoid multicollinearity.*\n",
    "\n",
    "*Omitted `Analyst` because when I included in the next regression model, the p-value = `0.206`*"
   ]
  },
  {
   "cell_type": "markdown",
   "metadata": {},
   "source": [
    "<a id='interpretation'></a>\n",
    "### Part III - Interpret Results\n",
    "\n",
    "`1.` Consider you are tasked with finding which features in your linear model are significantly related to salary.  Were there any features that were not significantly related to salary in your first model?  If not, remove those features and fit a new model.  Only keep the features that were significant from the original model."
   ]
  },
  {
   "cell_type": "code",
   "execution_count": 27,
   "metadata": {},
   "outputs": [
    {
     "data": {
      "text/html": [
       "<table class=\"simpletable\">\n",
       "<caption>OLS Regression Results</caption>\n",
       "<tr>\n",
       "  <th>Dep. Variable:</th>         <td>Salary</td>      <th>  R-squared:         </th> <td>   0.907</td> \n",
       "</tr>\n",
       "<tr>\n",
       "  <th>Model:</th>                   <td>OLS</td>       <th>  Adj. R-squared:    </th> <td>   0.905</td> \n",
       "</tr>\n",
       "<tr>\n",
       "  <th>Method:</th>             <td>Least Squares</td>  <th>  F-statistic:       </th> <td>   446.3</td> \n",
       "</tr>\n",
       "<tr>\n",
       "  <th>Date:</th>             <td>Mon, 20 Jan 2025</td> <th>  Prob (F-statistic):</th> <td>5.59e-183</td>\n",
       "</tr>\n",
       "<tr>\n",
       "  <th>Time:</th>                 <td>23:34:14</td>     <th>  Log-Likelihood:    </th> <td> -4107.2</td> \n",
       "</tr>\n",
       "<tr>\n",
       "  <th>No. Observations:</th>      <td>   373</td>      <th>  AIC:               </th> <td>   8232.</td> \n",
       "</tr>\n",
       "<tr>\n",
       "  <th>Df Residuals:</th>          <td>   364</td>      <th>  BIC:               </th> <td>   8268.</td> \n",
       "</tr>\n",
       "<tr>\n",
       "  <th>Df Model:</th>              <td>     8</td>      <th>                     </th>     <td> </td>    \n",
       "</tr>\n",
       "<tr>\n",
       "  <th>Covariance Type:</th>      <td>nonrobust</td>    <th>                     </th>     <td> </td>    \n",
       "</tr>\n",
       "</table>\n",
       "<table class=\"simpletable\">\n",
       "<tr>\n",
       "           <td></td>              <th>coef</th>     <th>std err</th>      <th>t</th>      <th>P>|t|</th>  <th>[0.025</th>    <th>0.975]</th>  \n",
       "</tr>\n",
       "<tr>\n",
       "  <th>intercept</th>           <td>  4.97e+04</td> <td> 2704.941</td> <td>   18.373</td> <td> 0.000</td> <td> 4.44e+04</td> <td>  5.5e+04</td>\n",
       "</tr>\n",
       "<tr>\n",
       "  <th>Years of Experience</th> <td> 5279.4547</td> <td>  182.400</td> <td>   28.944</td> <td> 0.000</td> <td> 4920.765</td> <td> 5638.144</td>\n",
       "</tr>\n",
       "<tr>\n",
       "  <th>Director</th>            <td> 2.245e+04</td> <td> 3746.305</td> <td>    5.993</td> <td> 0.000</td> <td> 1.51e+04</td> <td> 2.98e+04</td>\n",
       "</tr>\n",
       "<tr>\n",
       "  <th>Senior</th>              <td> 1.256e+04</td> <td> 2271.826</td> <td>    5.531</td> <td> 0.000</td> <td> 8096.803</td> <td>  1.7e+04</td>\n",
       "</tr>\n",
       "<tr>\n",
       "  <th>Manager</th>             <td> 1.057e+04</td> <td> 2209.459</td> <td>    4.782</td> <td> 0.000</td> <td> 6221.066</td> <td> 1.49e+04</td>\n",
       "</tr>\n",
       "<tr>\n",
       "  <th>Engineer</th>            <td> 5499.5734</td> <td> 6835.131</td> <td>    0.805</td> <td> 0.422</td> <td>-7941.729</td> <td> 1.89e+04</td>\n",
       "</tr>\n",
       "<tr>\n",
       "  <th>Male</th>                <td>-7464.2121</td> <td> 1553.089</td> <td>   -4.806</td> <td> 0.000</td> <td>-1.05e+04</td> <td>-4410.059</td>\n",
       "</tr>\n",
       "<tr>\n",
       "  <th>Bachelor</th>            <td>-1.419e+04</td> <td> 2122.097</td> <td>   -6.689</td> <td> 0.000</td> <td>-1.84e+04</td> <td>   -1e+04</td>\n",
       "</tr>\n",
       "<tr>\n",
       "  <th>PhD</th>                 <td> 9301.5060</td> <td> 2818.488</td> <td>    3.300</td> <td> 0.001</td> <td> 3758.942</td> <td> 1.48e+04</td>\n",
       "</tr>\n",
       "</table>\n",
       "<table class=\"simpletable\">\n",
       "<tr>\n",
       "  <th>Omnibus:</th>       <td>91.739</td> <th>  Durbin-Watson:     </th> <td>   1.791</td> \n",
       "</tr>\n",
       "<tr>\n",
       "  <th>Prob(Omnibus):</th> <td> 0.000</td> <th>  Jarque-Bera (JB):  </th> <td> 548.852</td> \n",
       "</tr>\n",
       "<tr>\n",
       "  <th>Skew:</th>          <td> 0.879</td> <th>  Prob(JB):          </th> <td>6.58e-120</td>\n",
       "</tr>\n",
       "<tr>\n",
       "  <th>Kurtosis:</th>      <td> 8.677</td> <th>  Cond. No.          </th> <td>    108.</td> \n",
       "</tr>\n",
       "</table><br/><br/>Notes:<br/>[1] Standard Errors assume that the covariance matrix of the errors is correctly specified."
      ],
      "text/plain": [
       "<class 'statsmodels.iolib.summary.Summary'>\n",
       "\"\"\"\n",
       "                            OLS Regression Results                            \n",
       "==============================================================================\n",
       "Dep. Variable:                 Salary   R-squared:                       0.907\n",
       "Model:                            OLS   Adj. R-squared:                  0.905\n",
       "Method:                 Least Squares   F-statistic:                     446.3\n",
       "Date:                Mon, 20 Jan 2025   Prob (F-statistic):          5.59e-183\n",
       "Time:                        23:34:14   Log-Likelihood:                -4107.2\n",
       "No. Observations:                 373   AIC:                             8232.\n",
       "Df Residuals:                     364   BIC:                             8268.\n",
       "Df Model:                           8                                         \n",
       "Covariance Type:            nonrobust                                         \n",
       "=======================================================================================\n",
       "                          coef    std err          t      P>|t|      [0.025      0.975]\n",
       "---------------------------------------------------------------------------------------\n",
       "intercept             4.97e+04   2704.941     18.373      0.000    4.44e+04     5.5e+04\n",
       "Years of Experience  5279.4547    182.400     28.944      0.000    4920.765    5638.144\n",
       "Director             2.245e+04   3746.305      5.993      0.000    1.51e+04    2.98e+04\n",
       "Senior               1.256e+04   2271.826      5.531      0.000    8096.803     1.7e+04\n",
       "Manager              1.057e+04   2209.459      4.782      0.000    6221.066    1.49e+04\n",
       "Engineer             5499.5734   6835.131      0.805      0.422   -7941.729    1.89e+04\n",
       "Male                -7464.2121   1553.089     -4.806      0.000   -1.05e+04   -4410.059\n",
       "Bachelor            -1.419e+04   2122.097     -6.689      0.000   -1.84e+04      -1e+04\n",
       "PhD                  9301.5060   2818.488      3.300      0.001    3758.942    1.48e+04\n",
       "==============================================================================\n",
       "Omnibus:                       91.739   Durbin-Watson:                   1.791\n",
       "Prob(Omnibus):                  0.000   Jarque-Bera (JB):              548.852\n",
       "Skew:                           0.879   Prob(JB):                    6.58e-120\n",
       "Kurtosis:                       8.677   Cond. No.                         108.\n",
       "==============================================================================\n",
       "\n",
       "Notes:\n",
       "[1] Standard Errors assume that the covariance matrix of the errors is correctly specified.\n",
       "\"\"\""
      ]
     },
     "execution_count": 27,
     "metadata": {},
     "output_type": "execute_result"
    }
   ],
   "source": [
    "# explain your answer and fit a new model with the reduced set of features here\n",
    "mlr0 = sm.OLS(df['Salary'],df[['intercept' , 'Years of Experience','Director',\n",
    "       'Senior', 'Manager', 'Engineer', 'Male', 'Bachelor', 'PhD']])\n",
    "\n",
    "res0 = mlr0.fit()\n",
    "res0.summary()"
   ]
  },
  {
   "cell_type": "markdown",
   "metadata": {},
   "source": [
    "`a)` With each additional year of experience, what is the expected change in salary?  What is the 95% confidence interval of the change?"
   ]
  },
  {
   "cell_type": "markdown",
   "metadata": {
    "collapsed": true
   },
   "source": [
    "**Your Answer Here**\n",
    "\n",
    ">  The expected change in salary is: `49700`\n",
    "\n",
    ">  The 95% confidence interval of the change is between `44400` and `55000`. Which the true coefficient likely falls, with a certain level of 95% confidence interval."
   ]
  },
  {
   "cell_type": "markdown",
   "metadata": {},
   "source": [
    "`b)` What is the expected difference in salary between someone with a senior title and someone with none of the other title indications?"
   ]
  },
  {
   "cell_type": "markdown",
   "metadata": {
    "collapsed": true
   },
   "source": [
    "**Your Answer Here**\n",
    "\n",
    ">  `Senior` position: `12560.42`\n",
    "\n",
    "The coefficient for Senior is 12,560.42, which means that holding a senior title is associated with an expected increase of 12,560.42 in salary compared to someone without any of the title indications (i.e., the baseline group, represented by the intercept). If an individual has a senior title and none of the other title indicators (e.g., Director, Manager, Engineer, etc.), their expected salary would be 12,560.42 higher compared to someone without any title."
   ]
  },
  {
   "cell_type": "markdown",
   "metadata": {},
   "source": [
    "`c)` What is the expected difference in salary between someone with a PhD and an individual with no PhD nor master's degree?  What is the 95% confidence interval of the change?"
   ]
  },
  {
   "cell_type": "markdown",
   "metadata": {
    "collapsed": true
   },
   "source": [
    "**Your Answer Here**\n",
    "\n",
    ">  `PhD` position: `9301`\n",
    "\n",
    ">  `Bachelor` position: `-14,190`\n",
    "\n",
    "The coefficient for PhD is 9301.50, meaning that having a PhD increases the expected salary by 9,301.51 compared to someone without a PhD.\n",
    "\n",
    "The coefficient for Bachelor (representing individuals with no master's degree) is -14,191.04, meaning that having only a bachelor's degree (compared to the reference group, likely those with a master's degree) decreases the expected salary by 14,191.04.\n",
    "\n",
    "**`95% Confidence Interval`**\n",
    "The 95% confidence interval for Bachelor is: [-18400,-10000]\n",
    "\n",
    "The 95% confidence interval for PhD is: [3758.94,14800]\n",
    "\n",
    "**`The 95% confidence interval of the change:`**\n",
    "\n",
    "[3758.94 - (-18400), 14800 - (-10000)] = [3758.94+18400 , 14800+10000] = `[22158.94, 24844.08]`"
   ]
  },
  {
   "cell_type": "markdown",
   "metadata": {},
   "source": [
    "`d)` If a male employee has 5 years of experience as a senior engineer with a bachelor's degree, what is the expected salary of the employee?"
   ]
  },
  {
   "cell_type": "markdown",
   "metadata": {},
   "source": [
    "**Your Answer Here**\n",
    "\n",
    ">  The Expected Salary is computed as follows:\n",
    "\n",
    ">  Salary = Intercept + YOE $\\beta$ + Age $\\beta$ + Job Title $\\beta$ + Gender $\\beta$ + Education $\\beta$\n",
    "\n",
    ">  **`Parameters for the case:`**\n",
    "\n",
    "* Intercept: 49700\n",
    "* YOE: 5287.45\n",
    "* Job Title:\n",
    "    * a. Engineer: 5499.57\n",
    "    * b. Senior: 12560\n",
    "* Male: -7464.21\n",
    "* Bachelor: -14190\n",
    "\n",
    "`Calculating the expected salary: down below:`\n"
   ]
  },
  {
   "cell_type": "code",
   "execution_count": 28,
   "metadata": {},
   "outputs": [
    {
     "name": "stdout",
     "output_type": "stream",
     "text": [
      "The expected salary of the employee is: 72542.61$\n"
     ]
    }
   ],
   "source": [
    "#using the intercept to compute the salary\n",
    "Salary = (49700+(5*5287.45)+5499.57+12560-7464.21-14190)\n",
    "print(\"The expected salary of the employee is: {}$\".format(round(Salary,2)))"
   ]
  },
  {
   "cell_type": "markdown",
   "metadata": {},
   "source": [
    "`e)` Imagine that the employee in question `d)` actually has a salary of $110,000, what would the residual be for this employee?\n",
    "\n",
    "**`Is considered identical which is a bit suspecious!`**"
   ]
  },
  {
   "cell_type": "code",
   "execution_count": 29,
   "metadata": {},
   "outputs": [
    {
     "name": "stdout",
     "output_type": "stream",
     "text": [
      "R-squared: 1.00\n"
     ]
    }
   ],
   "source": [
    "import pandas as pd\n",
    "from sklearn.model_selection import train_test_split\n",
    "from sklearn.linear_model import LinearRegression\n",
    "from sklearn.metrics import mean_squared_error, r2_score\n",
    "\n",
    "subset = df[(df[\"Salary\"] == 110000)]\n",
    "\n",
    "# Split data into features (X) and target (y)\n",
    "X = subset[['Years of Experience', 'Senior', 'Engineer','Male','Bachelor']]\n",
    "y = subset['Salary']\n",
    "\n",
    "# Split data into training and testing sets\n",
    "X_train, X_test, y_train, y_test = train_test_split(X, y, test_size=0.2, random_state=42)\n",
    "\n",
    "# Create and train a linear regression model\n",
    "model = LinearRegression()\n",
    "model.fit(X_train, y_train)\n",
    "\n",
    "# Make predictions on the test set\n",
    "y_pred = model.predict(X_test)\n",
    "\n",
    "# Evaluate the model\n",
    "r2 = r2_score(y_test, y_pred)\n",
    "\n",
    "print(f\"R-squared: {r2:.2f}\") #above 80%-90% is considered good!"
   ]
  },
  {
   "cell_type": "markdown",
   "metadata": {},
   "source": [
    "**`Computing the same caculation on the whole data to measure the R2`**"
   ]
  },
  {
   "cell_type": "code",
   "execution_count": 30,
   "metadata": {},
   "outputs": [
    {
     "name": "stdout",
     "output_type": "stream",
     "text": [
      "R-squared: 0.91\n"
     ]
    }
   ],
   "source": [
    "import pandas as pd\n",
    "from sklearn.model_selection import train_test_split\n",
    "from sklearn.linear_model import LinearRegression\n",
    "from sklearn.metrics import mean_squared_error, r2_score\n",
    "\n",
    "# Split data into features (X) and target (y)\n",
    "X = df[['Years of Experience', 'Senior', 'Engineer','Male','Bachelor']]\n",
    "y = df['Salary']\n",
    "\n",
    "# Split data into training and testing sets\n",
    "X_train, X_test, y_train, y_test = train_test_split(X, y, test_size=0.2, random_state=42)\n",
    "\n",
    "# Create and train a linear regression model\n",
    "model = LinearRegression()\n",
    "model.fit(X_train, y_train)\n",
    "\n",
    "# Make predictions on the test set\n",
    "y_pred = model.predict(X_test)\n",
    "\n",
    "# Evaluate the model\n",
    "r2 = r2_score(y_test, y_pred)\n",
    "\n",
    "print(f\"R-squared: {r2:.2f}\") #above 80%-90% is considered good!"
   ]
  },
  {
   "cell_type": "markdown",
   "metadata": {
    "collapsed": true
   },
   "source": [
    "**Your Answer Here**\n",
    "\n",
    ">  When I filter the data with the a condition of employee earns `110k` the R2 score is `100%` and it's biased.\n",
    "\n",
    ">  On the other hand, when I train the same calculations on the whole dataset, I get reasonable R2 score `91%`."
   ]
  },
  {
   "cell_type": "markdown",
   "metadata": {},
   "source": [
    "`f)` How well do you think your model fits?  What metrics or plots would you consider to understand if this model does a good job of predicting salary?"
   ]
  },
  {
   "cell_type": "markdown",
   "metadata": {},
   "source": [
    "**Your Answer Here**\n",
    "\n",
    "I will focus on `heatmap` and `scatter matrix` to give me clearer prospect on the variables and their correlation with the salary. Both visuals help in understanding the model fits or not and give valuable insights regarding the predicting salary.\n",
    "\n",
    "Furthermore, most independent variables have p-values < 0.05, indicating they are statistically significant in predicting salary. \n",
    "\n",
    "Finally, The R2 score suggests that 91% of the variance in salary is explained by the independent variables in the model."
   ]
  },
  {
   "cell_type": "code",
   "execution_count": 31,
   "metadata": {},
   "outputs": [],
   "source": [
    "### Your work here\n",
    "lr = df[['Years of Experience','Director', 'Salary', 'Age',\n",
    "       'Senior', 'Not Listed', 'Manager','Engineer', 'Male', 'Bachelor', 'PhD']]"
   ]
  },
  {
   "cell_type": "code",
   "execution_count": 32,
   "metadata": {},
   "outputs": [
    {
     "data": {
      "image/png": "[encoded data removed]",
      "text/plain": [
       "<Figure size 1008x576 with 2 Axes>"
      ]
     },
     "metadata": {
      "needs_background": "light"
     },
     "output_type": "display_data"
    }
   ],
   "source": [
    "fig, ax = plt.subplots(figsize=(14, 8))\n",
    "\n",
    "df_corr = lr.corr()\n",
    "\n",
    "# mask\n",
    "mask = np.triu(np.ones_like(df_corr, dtype=np.bool))\n",
    "# adjust mask and df\n",
    "mask = mask[1:, :-1]\n",
    "corr = df_corr.iloc[1:,:-1].copy()\n",
    "# color map\n",
    "cmap = sns.diverging_palette(0, 230, 90, 60, as_cmap=True)\n",
    "# plot heatmap\n",
    "sns.heatmap(corr, mask=mask, annot=True, fmt=\".2f\", \n",
    "           linewidths=5, cmap=cmap, vmin=-1, vmax=1, \n",
    "           cbar_kws={\"shrink\": .8}, square=True)\n",
    "# ticks\n",
    "yticks = [i.upper() for i in corr.index]\n",
    "xticks = [i.upper() for i in corr.columns]\n",
    "plt.yticks(plt.yticks()[0], labels=yticks, rotation=0)\n",
    "plt.xticks(plt.xticks()[0], labels=xticks)\n",
    "# title\n",
    "title = 'CORRELATION MATRIX SAMPLED SALARY COMPOSITION\\n'\n",
    "plt.title(title, loc='left', fontsize=18)\n",
    "plt.show()"
   ]
  },
  {
   "cell_type": "code",
   "execution_count": 33,
   "metadata": {},
   "outputs": [
    {
     "data": {
      "text/plain": [
       "<Figure size 720x576 with 0 Axes>"
      ]
     },
     "metadata": {},
     "output_type": "display_data"
    },
    {
     "data": {
      "image/png": "[encoded data removed]",
      "text/plain": [
       "<Figure size 540x540 with 12 Axes>"
      ]
     },
     "metadata": {
      "needs_background": "light"
     },
     "output_type": "display_data"
    }
   ],
   "source": [
    "import seaborn as sns\n",
    "plt.figure(figsize=(10,8))\n",
    "sns.pairplot(data)\n",
    "plt.show()"
   ]
  },
  {
   "cell_type": "markdown",
   "metadata": {},
   "source": [
    "<a id='finalcheck'></a>\n",
    "## Final Check!\n",
    "\n",
    "Congratulations!  You have reached the end of the salary prediction project!  You should be very proud of all you have accomplished!\n",
    "\n",
    "> **Tip**: Once you are satisfied with your work here, check over your notebook to make sure that it satisfies all the specifications mentioned in the rubric. You should also probably remove all of the \"Hints\" and \"Tips\" like this one so that the presentation is as polished as possible.\n",
    "\n",
    "\n",
    "<a id='submission'></a>\n",
    "## Submission\n",
    "\n",
    "Please follow the directions in the classroom to submit this notebook, as well as your completed slides."
   ]
  },
  {
   "cell_type": "markdown",
   "metadata": {},
   "source": []
  }
 ],
 "metadata": {
  "kernelspec": {
   "display_name": "Python 3 (ipykernel)",
   "language": "python",
   "name": "python3"
  },
  "language_info": {
   "codemirror_mode": {
    "name": "ipython",
    "version": 3
   },
   "file_extension": ".py",
   "mimetype": "text/x-python",
   "name": "python",
   "nbconvert_exporter": "python",
   "pygments_lexer": "ipython3",
   "version": "3.8.10"
  }
 },
 "nbformat": 4,
 "nbformat_minor": 4
}
